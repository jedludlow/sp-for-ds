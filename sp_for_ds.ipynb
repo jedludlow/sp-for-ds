{
 "cells": [
  {
   "cell_type": "code",
   "execution_count": 1,
   "metadata": {
    "slideshow": {
     "slide_type": "skip"
    }
   },
   "outputs": [],
   "source": [
    "%matplotlib widget"
   ]
  },
  {
   "cell_type": "code",
   "execution_count": 2,
   "metadata": {
    "slideshow": {
     "slide_type": "skip"
    }
   },
   "outputs": [],
   "source": [
    "import warnings; warnings.simplefilter('ignore')"
   ]
  },
  {
   "cell_type": "code",
   "execution_count": 3,
   "metadata": {
    "slideshow": {
     "slide_type": "skip"
    }
   },
   "outputs": [],
   "source": [
    "import numpy as np\n",
    "import matplotlib.pyplot as plt\n",
    "import seaborn as sns\n",
    "import pandas as pd\n",
    "import scipy.signal as signal\n",
    "import ipywidgets as widgets\n",
    "from IPython.display import display\n",
    "sns.set_context('notebook')"
   ]
  },
  {
   "cell_type": "markdown",
   "metadata": {
    "slideshow": {
     "slide_type": "slide"
    }
   },
   "source": [
    "<hr>\n",
    "\n",
    "# Signal Processing for Data Scientists\n",
    "\n",
    "Jed Ludlow\n",
    "\n",
    "UnitedHealth Group\n",
    "\n",
    "<hr>\n",
    "\n",
    "Get the code at https://github.com/jedludlow/sp-for-ds"
   ]
  },
  {
   "cell_type": "markdown",
   "metadata": {
    "slideshow": {
     "slide_type": "slide"
    }
   },
   "source": [
    "## Overview\n",
    "\n",
    "* Signal processing: Tools to separate the useful information from the nuisance information in a time series.\n",
    "* Cover three areas today\n",
    "  * Fourier analysis in the frequency domain\n",
    "  * Discrete-time sampling\n",
    "  * Digital filtering"
   ]
  },
  {
   "cell_type": "markdown",
   "metadata": {
    "slideshow": {
     "slide_type": "slide"
    }
   },
   "source": [
    "# Fourier Analysis in the Frequency Domain"
   ]
  },
  {
   "cell_type": "markdown",
   "metadata": {
    "slideshow": {
     "slide_type": "subslide"
    }
   },
   "source": [
    "## Fourier Series\n",
    "\n",
    "A periodic signal $s(t)$ can be expressed as a (possibly infininte) sum of simple sinusoids. Usually we approximate it by truncating the series to $N$ terms as\n",
    "\n",
    "$$s_N(t) = \\frac{A_0}{2} + \\sum_{n=1}^N A_n \\sin(\\tfrac{2\\pi nt}{P}+\\phi_n) \\quad \\scriptstyle \\text{for integer}\\ N\\ \\ge\\ 1$$"
   ]
  },
  {
   "cell_type": "markdown",
   "metadata": {
    "slideshow": {
     "slide_type": "subslide"
    }
   },
   "source": [
    "## Discrete Fourier Transform\n",
    "\n",
    "If we have a short sample of a periodic signal, the discrete Fourier transform allows us to recover its sinusoidal frequency components. Numerically, the problem of computing the discrete Fourier transform has been studied for many years, and the result is the Fast Fourier Transform (FFT).\n",
    "\n",
    ">In 1994, Gilbert Strang described the FFT as \"the most important numerical algorithm of our lifetime\" and it was included in Top 10 Algorithms of 20th Century by the IEEE journal Computing in Science & Engineering. (source: https://en.wikipedia.org/wiki/Fast_Fourier_transform)\n",
    "\n",
    "In Python, this transform is available in the `numpy.fft` package."
   ]
  },
  {
   "cell_type": "code",
   "execution_count": 4,
   "metadata": {
    "slideshow": {
     "slide_type": "subslide"
    }
   },
   "outputs": [],
   "source": [
    "def fft_scaled(x, axis=-1, samp_freq=1.0, remove_mean=True):\n",
    "    \"\"\"\n",
    "    Fully scaled and folded FFT with physical amplitudes preserved.\n",
    "\n",
    "    Arguments\n",
    "    ---------\n",
    "\n",
    "    x: numpy n-d array\n",
    "        array of signal information.\n",
    "\n",
    "    axis: int\n",
    "        array axis along which to compute the FFT.\n",
    "\n",
    "    samp_freq: float\n",
    "        signal sampling frequency in Hz.\n",
    "\n",
    "    remove_mean: boolean\n",
    "        remove the mean of each signal prior to taking the FFT so the DC\n",
    "        component of the FFT will be zero.\n",
    "\n",
    "    Returns\n",
    "    --------\n",
    "\n",
    "    (fft_x, freq) where *fft_x* is the full complex FFT, scaled and folded\n",
    "    so that only positive frequencies remain, and *freq* is a matching\n",
    "    array of positive frequencies.\n",
    "\n",
    "    Examples\n",
    "    --------\n",
    "\n",
    "    A common use case would present the signals in a 2-D array\n",
    "    where each row contains a signal trace. Columns would\n",
    "    then represent time sample intervals of the signals. The rows of\n",
    "    the returned *fft_x* array would contain the FFT of each signal, and\n",
    "    each column would correspond to an entry in the *freq* array.\n",
    "\n",
    "    \"\"\"\n",
    "    # Get length of the requested array axis.\n",
    "    n = x.shape[axis]\n",
    "\n",
    "    # Use truncating division here since for odd n we want to\n",
    "    # round down to the next closest integer. See docs for numpy fft.\n",
    "    half_n = n // 2\n",
    "\n",
    "    # Remove the mean if requested\n",
    "    if remove_mean:\n",
    "        ind = [slice(None)] * x.ndim\n",
    "        ind[axis] = np.newaxis\n",
    "        x = x - x.mean(axis)[ind]\n",
    "\n",
    "    # Compute fft, scale, and fold negative frequencies into positive.\n",
    "    def scale_and_fold(x):\n",
    "        # Scale by length of original signal\n",
    "        x = (1.0 / n) * x[:half_n + 1]\n",
    "        # Fold negative frequency\n",
    "        x[1:] *= 2.0\n",
    "        return x\n",
    "\n",
    "    fft_x = np.fft.fft(x, axis=axis)\n",
    "    fft_x = np.apply_along_axis(scale_and_fold, axis, fft_x)\n",
    "\n",
    "    # Matching frequency array. The abs takes care of the case where n\n",
    "    # is even, and the Nyquist frequency is usually negative.\n",
    "    freq = np.fft.fftfreq(n, 1.0 / samp_freq)\n",
    "    freq = np.abs(freq[:half_n + 1])\n",
    "\n",
    "    return (fft_x, freq)"
   ]
  },
  {
   "cell_type": "markdown",
   "metadata": {
    "slideshow": {
     "slide_type": "subslide"
    }
   },
   "source": [
    "## 1 Hz Square Wave"
   ]
  },
  {
   "cell_type": "code",
   "execution_count": 5,
   "metadata": {
    "slideshow": {
     "slide_type": "-"
    }
   },
   "outputs": [
    {
     "data": {
      "application/vnd.jupyter.widget-view+json": {
       "model_id": "3722ed324a6a4343b0f56b6b5cfbfd70",
       "version_major": 2,
       "version_minor": 0
      },
      "text/plain": [
       "FigureCanvasNbAgg()"
      ]
     },
     "metadata": {},
     "output_type": "display_data"
    }
   ],
   "source": [
    "f_s = 1000.0  # Sampling frequency in Hz\n",
    "time = np.arange(0.0, 100.0 + 1.0/f_s, 1.0/f_s)\n",
    "square_wave = signal.square(2 * np.pi * time)\n",
    "plt.figure(figsize=(9, 5))\n",
    "plt.plot(time, square_wave), plt.xlabel('time (s)'), plt.ylabel('x(t)'), plt.title('1 Hz Square Wave')\n",
    "plt.xlim((0, 3)), plt.ylim((-1.1, 1.1));"
   ]
  },
  {
   "cell_type": "markdown",
   "metadata": {
    "slideshow": {
     "slide_type": "subslide"
    }
   },
   "source": [
    "## Fourier Analysis of Square Wave"
   ]
  },
  {
   "cell_type": "code",
   "execution_count": 6,
   "metadata": {
    "slideshow": {
     "slide_type": "-"
    }
   },
   "outputs": [
    {
     "data": {
      "application/vnd.jupyter.widget-view+json": {
       "model_id": "57c196e63dd3451db91c670f8690502b",
       "version_major": 2,
       "version_minor": 0
      },
      "text/plain": [
       "FigureCanvasNbAgg()"
      ]
     },
     "metadata": {},
     "output_type": "display_data"
    }
   ],
   "source": [
    "fft_x, freq_sq = fft_scaled(square_wave, samp_freq=f_s)\n",
    "f_max = 24.0\n",
    "plt.figure(figsize=(9, 5)), plt.plot(freq_sq, np.abs(fft_x))\n",
    "plt.xticks(np.arange(0.0, f_max + 1.0, 1.0))\n",
    "plt.xlim((0, f_max)), plt.xlabel('Frequency (Hz)'), plt.ylabel('Amplitude')\n",
    "plt.title('Frequency Spectrum of Square Wave');"
   ]
  },
  {
   "cell_type": "markdown",
   "metadata": {
    "slideshow": {
     "slide_type": "subslide"
    }
   },
   "source": [
    "## Approximate 1 Hz Square Wave\n",
    "\n",
    "Let's sythesize an approximation to a square wave by summing a reduced number of sinusoidal components."
   ]
  },
  {
   "cell_type": "code",
   "execution_count": 7,
   "metadata": {
    "slideshow": {
     "slide_type": "-"
    }
   },
   "outputs": [],
   "source": [
    "# Set frequency components and amplitudes.\n",
    "# Square waves contain all the odd harmonics\n",
    "# of the fundamental frequency.\n",
    "f_components = [1.0, 3.0, 5.0, 7.0, 9.0, 11.0]\n",
    "# f_components = [1.0, 3.0, 5.0, 7.0, 9.0, 11.0,\n",
    "#                 13.0, 15.0, 17.0, 19.0, 21.0]\n",
    "amplitudes = [1.28 / f for f in f_components]\n",
    "\n",
    "# Generate the square wave\n",
    "s_t = np.zeros_like(time)\n",
    "for f, amp in zip(f_components, amplitudes):\n",
    "    s_t += amp * np.sin(2 * np.pi * f * time)"
   ]
  },
  {
   "cell_type": "code",
   "execution_count": 8,
   "metadata": {
    "slideshow": {
     "slide_type": "subslide"
    }
   },
   "outputs": [
    {
     "data": {
      "application/vnd.jupyter.widget-view+json": {
       "model_id": "4b278a83fb714000aa337518c18f036b",
       "version_major": 2,
       "version_minor": 0
      },
      "text/plain": [
       "FigureCanvasNbAgg()"
      ]
     },
     "metadata": {},
     "output_type": "display_data"
    }
   ],
   "source": [
    "plt.figure(figsize=(9, 5)), plt.plot(time, s_t)\n",
    "plt.xlabel('time (s)'), plt.ylabel('$s(t)$'), plt.xlim((0, 3))\n",
    "plt.title('Approximate Square Wave');"
   ]
  },
  {
   "cell_type": "markdown",
   "metadata": {
    "slideshow": {
     "slide_type": "subslide"
    }
   },
   "source": [
    "## Fourier Analysis of Approximate Square Wave"
   ]
  },
  {
   "cell_type": "code",
   "execution_count": 9,
   "metadata": {
    "slideshow": {
     "slide_type": "-"
    }
   },
   "outputs": [
    {
     "data": {
      "application/vnd.jupyter.widget-view+json": {
       "model_id": "09778da2c95c4d3d95653f28ac4c767d",
       "version_major": 2,
       "version_minor": 0
      },
      "text/plain": [
       "FigureCanvasNbAgg()"
      ]
     },
     "metadata": {},
     "output_type": "display_data"
    }
   ],
   "source": [
    "freq_spec, freq = fft_scaled(s_t, samp_freq=f_s)\n",
    "f_max = 12.0\n",
    "plt.figure(figsize=(9, 5)), plt.plot(freq, np.abs(freq_spec))\n",
    "plt.xticks(np.arange(0.0, f_max + 1.0, 1.0))\n",
    "plt.xlim((0, f_max)), plt.xlabel('Frequency (Hz)'), plt.ylabel('Amplitude')\n",
    "plt.title('Frequency Spectrum of Approximate Square Wave');"
   ]
  },
  {
   "cell_type": "markdown",
   "metadata": {
    "slideshow": {
     "slide_type": "slide"
    }
   },
   "source": [
    "# Discrete-Time Sampling"
   ]
  },
  {
   "cell_type": "markdown",
   "metadata": {
    "slideshow": {
     "slide_type": "subslide"
    }
   },
   "source": [
    "## Nyquist-Shannon Sampling Theorem\n",
    "\n",
    "Consider a continuous signal $x(t)$ with Fourier transfom $X(f)$. Assume:\n",
    "\n",
    "* A sampled version of the signal is constructed as\n",
    "\n",
    "$$x_k = x(kT), k \\in \\mathbb{I}$$\n",
    "\n",
    "* $x(t)$ is band-limited such that\n",
    "\n",
    "$$X(f) = 0 \\ \\forall \\ |f| > B$$\n",
    "\n",
    "<center><img src=\"images/Bandlimited.svg\" width=\"300\"></center>\n",
    "\n",
    "Then $x(t)$ is uniquely recoverable from $x_k$ if\n",
    "\n",
    "$$\\frac{1}{T} \\triangleq f_s > 2B$$\n",
    "\n",
    "This critical frequency shows up so frequently that is has its own name, the Nyquist frequency.\n",
    "\n",
    "$$f_N = \\frac{f_s}{2}$$"
   ]
  },
  {
   "cell_type": "markdown",
   "metadata": {
    "slideshow": {
     "slide_type": "skip"
    }
   },
   "source": [
    "*A note about frequency:* Most theoretical signal processing work is done using circular frequency $\\omega$ in units of rad/sec. This is done to eliminate the factor of of $2 \\pi$ which shows up in many equations when true ordinary frequency $f$ is used. That said, nearly all practical signal processing is done with ordinary frequency. The relationship between the two frequencies is\n",
    "\n",
    "$$ \\omega = 2 \\pi f$$\n",
    "\n",
    "<center><img src=\"images/ideal_sampler.png\" width=\"800\"></center>\n",
    "image credit: MIT Open Courseware, Signals and Systems, Oppenheimer"
   ]
  },
  {
   "cell_type": "markdown",
   "metadata": {
    "slideshow": {
     "slide_type": "skip"
    }
   },
   "source": [
    "## Practical Realities\n",
    "\n",
    "* For complete recoverability, Nyquist requires an *ideal sampler* and an *ideal interpolator*. In practice, these are not physically realizable.\n",
    "\n",
    "$$x(t) = \\mathrm{IdealInterpolator}_T(\\mathrm{IdealSampler}_T(x(t))$$\n",
    "\n",
    "* Real signals are never perfectly band-limited. There are always some noise components out past the Nyquist sampling rate. \n",
    "\n",
    "* You will often be given sampled data but have very little insight into the system that generated the data. In that situation, you really have *no* guarantees that any estimates of frequency content for the underlying continuous time process are correct. You may be observing alias frequencies. A frequency $f_a$ is an alias of $f$ if\n",
    "\n",
    "$$ f_a = |nf_s - f|, n \\in \\mathbb{I}$$\n"
   ]
  },
  {
   "cell_type": "markdown",
   "metadata": {
    "slideshow": {
     "slide_type": "subslide"
    }
   },
   "source": [
    "## Aliasing\n",
    "\n",
    "When your signal contains frequency components that are above the Nyquist frequency then those high frequency components show up at lower frequencies. These lower frequencies are called *aliases* of the higher frequencies."
   ]
  },
  {
   "cell_type": "code",
   "execution_count": 10,
   "metadata": {
    "slideshow": {
     "slide_type": "skip"
    }
   },
   "outputs": [],
   "source": [
    "def scale_and_fold(x):\n",
    "    n = len(x)\n",
    "    half_n = n // 2\n",
    "    # Scale by length of original signal\n",
    "    x = (1.0 / n) * x[:half_n + 1]\n",
    "    # Fold negative frequency\n",
    "    x[1:] *= 2.0\n",
    "    return x"
   ]
  },
  {
   "cell_type": "code",
   "execution_count": 11,
   "metadata": {
    "slideshow": {
     "slide_type": "skip"
    }
   },
   "outputs": [],
   "source": [
    "def aliasing_demo():\n",
    "    f_c = 1000.0  # Hz\n",
    "    f_s = 20.0  # Hz\n",
    "    f_end = 25.0  # Hz\n",
    "    f = 1.0  # Hz\n",
    "\n",
    "    time_c = np.arange(0.0, 10.0 + 1.0/f_c, 1/f_c)\n",
    "    time_s = np.arange(0.0, 10.0 + 1.0/f_s, 1/f_s)\n",
    "    freq_c = np.fft.fftfreq(len(time_c), 1.0 / f_c)\n",
    "    freq_c = np.abs(freq_c[:len(time_c) // 2 + 1])\n",
    "    freq_s = np.fft.fftfreq(len(time_s), 1.0 / f_s)\n",
    "    freq_s = np.abs(freq_s[:len(time_s) // 2 + 1])\n",
    "\n",
    "    f=widgets.FloatSlider(value=1.0, min=0.0, max=f_end, step=0.1, description='Frequency (Hz)')\n",
    "    phi = widgets.FloatSlider(value=0.0, min=0.0, max=2.0*np.pi, step=0.1, description=\"Phase (rad)\")\n",
    "\n",
    "    x_c = np.sin(2 * np.pi * f.value * time_c + phi.value)\n",
    "    x_s = np.sin(2 * np.pi * f.value * time_s + phi.value)\n",
    "    fig, ax = plt.subplots(2, 1, figsize=(9, 6))\n",
    "    fig.subplots_adjust(hspace=0.3)\n",
    "    line1 = ax[0].plot(time_c, x_c, alpha=0.9, lw=2.0)[0]\n",
    "    line2 = ax[0].plot(time_s, x_s, marker='o', color='r', ls=':')[0]\n",
    "    ax[0].set_xlabel(\"Time (s)\")\n",
    "    ax[0].set_ylabel(\"$x$\")\n",
    "    ax[0].set_title('Sine Wave Sampled at {} Hz'.format(int(f_s)))\n",
    "    ax[0].set_ylim((-1, 1))\n",
    "    ax[0].set_xlim((0, 1))\n",
    "\n",
    "    window_c = 2 * np.hanning(len(time_c))\n",
    "    window_s = 2 * np.hanning(len(time_s))\n",
    "    fft_c = scale_and_fold(np.fft.fft(x_c * window_c))\n",
    "    fft_s = scale_and_fold(np.fft.fft(x_s * window_s))\n",
    "\n",
    "    line3 = ax[1].plot(freq_c, np.abs(fft_c), alpha=0.5, lw=2)[0]\n",
    "    line4 = ax[1].plot(freq_s, np.abs(fft_s), 'r:', lw=2)[0]\n",
    "    line5 = ax[1].axvline(f_s / 2.0, color='0.75', ls='--')\n",
    "    plt.axvline(f_s, color='0.75')\n",
    "    ax[1].text(1.02 * f_s / 2, 0.93, '$f_N$', {'size':14})\n",
    "    ax[1].text(1.01 * f_s, 0.93, '$f_s$', {'size':14})\n",
    "    ax[1].set_xlabel(\"Frequency (Hz)\")\n",
    "    ax[1].set_ylabel(\"$X(f)$\")\n",
    "    ax[1].set_xlim((0, f_end))\n",
    "\n",
    "    def on_slider(s):  \n",
    "        x_c = np.sin(2 * np.pi * f.value * time_c + phi.value)\n",
    "        x_s = np.sin(2 * np.pi * f.value * time_s + phi.value)\n",
    "        fft_c = scale_and_fold(np.fft.fft(x_c * window_c))\n",
    "        fft_s = scale_and_fold(np.fft.fft(x_s * window_s))\n",
    "\n",
    "    #     line1.set_xdata(time_c)\n",
    "        line1.set_ydata(x_c)\n",
    "    #     line2.set_xdata(time_s)\n",
    "        line2.set_ydata(x_s)\n",
    "        line3.set_ydata(np.abs(fft_c))\n",
    "        line4.set_ydata(np.abs(fft_s))\n",
    "        plt.draw()\n",
    "\n",
    "    f.on_trait_change(on_slider)\n",
    "    phi.on_trait_change(on_slider)\n",
    "\n",
    "    display(f)\n",
    "    display(phi)"
   ]
  },
  {
   "cell_type": "code",
   "execution_count": 12,
   "metadata": {
    "scrolled": false,
    "slideshow": {
     "slide_type": "subslide"
    }
   },
   "outputs": [
    {
     "data": {
      "application/vnd.jupyter.widget-view+json": {
       "model_id": "bd17599143194a1ea435b45abfd54c08",
       "version_major": 2,
       "version_minor": 0
      },
      "text/plain": [
       "FigureCanvasNbAgg()"
      ]
     },
     "metadata": {},
     "output_type": "display_data"
    },
    {
     "data": {
      "application/vnd.jupyter.widget-view+json": {
       "model_id": "adf3fae27f3f4bbebee90295ca57f251",
       "version_major": 2,
       "version_minor": 0
      },
      "text/plain": [
       "FloatSlider(value=1.0, description='Frequency (Hz)', max=25.0)"
      ]
     },
     "metadata": {},
     "output_type": "display_data"
    },
    {
     "data": {
      "application/vnd.jupyter.widget-view+json": {
       "model_id": "2f80da554b1b4e3e80352e84f1fa6512",
       "version_major": 2,
       "version_minor": 0
      },
      "text/plain": [
       "FloatSlider(value=0.0, description='Phase (rad)', max=6.283185307179586)"
      ]
     },
     "metadata": {},
     "output_type": "display_data"
    }
   ],
   "source": [
    "aliasing_demo()"
   ]
  },
  {
   "cell_type": "markdown",
   "metadata": {
    "slideshow": {
     "slide_type": "subslide"
    }
   },
   "source": [
    "## Avoiding Aliasing\n",
    "\n",
    "If you have control over the sampling process, specify a sampling frequency that is at least twice the highest frequency component of your signal. If you really want to preserve high fidelity, specify a sampling frequency that is ten times the highest frequency component in your signal."
   ]
  },
  {
   "cell_type": "markdown",
   "metadata": {
    "slideshow": {
     "slide_type": "slide"
    }
   },
   "source": [
    "# Digital Filtering"
   ]
  },
  {
   "cell_type": "markdown",
   "metadata": {
    "slideshow": {
     "slide_type": "subslide"
    }
   },
   "source": [
    "## Reshaping the Signal\n",
    "\n",
    "So far we've discussed analysis techniques for characterizing the frequency content of a signal. Now we discuss how to modify the frequency content of the signal to emphasize some of the information in it while removing other aspects. Generally accomplish this using digital filters."
   ]
  },
  {
   "cell_type": "markdown",
   "metadata": {
    "slideshow": {
     "slide_type": "subslide"
    }
   },
   "source": [
    "## Moving Average as a Digital Filter\n",
    "\n",
    "Let's express a moving average of five in the language of digital filtering. The output $y$ at the $k$-th sample is a function of the last five inputs $x$.\n",
    "\n",
    "$$y_k = \\frac{x_k + x_{k-1} + x_{k-2} + x_{k-3} + x_{k-4}}{5}$$\n",
    "\n",
    "More generally, this looks like\n",
    "\n",
    "$$y_k = b_0 x_k + b_1 x_{k-1} + b_2 x_{k-2} + b_3 x_{k-3} + b_4 x_{k-4}$$\n",
    "\n",
    "where all the $b_i = 0.2$. But they don't have to be equal. We could select each of the $b_i$ independently to be whatever we want. Then the filter looks like a weighted average."
   ]
  },
  {
   "cell_type": "markdown",
   "metadata": {
    "slideshow": {
     "slide_type": "subslide"
    }
   },
   "source": [
    "## Using Previous Outputs\n",
    "\n",
    "Even more generally, the current output can be a function of previous *outputs* as well as inputs if we desire.\n",
    "\n",
    "$$y_k = \\frac{1}{a_0} \\left(\\frac{b_0 x_k + b_1 x_{k-1} + b_2 x_{k-2} + b_3 x_{k-3} + b_4 x_{k-4}, + \\cdots}\n",
    "             {a_1 y_{k-1} + a_2 y_{k-2} + a_3 y_{k-3} + a_4 y_{k-4} + \\cdots}\n",
    "             \\right)$$\n",
    "             \n",
    "But how do we choose the $b_i$ and the $a_i$ to get a filter with a particular desired behavior?"
   ]
  },
  {
   "cell_type": "markdown",
   "metadata": {
    "slideshow": {
     "slide_type": "subslide"
    }
   },
   "source": [
    "## Standard Digital Filter Designs\n",
    "\n",
    "Luckily, standard filter designs already exist to create filters that have certain response characteristics, either in the time domain or the frequency domain.\n",
    "\n",
    "* Butterworth\n",
    "* Chebyshev\n",
    "* Elliptic\n",
    "* Bessel\n",
    "\n",
    "When in doubt, use the Butterworth filter since it's a great general purpose filter and is easier to specify. All of these filter designs are available in `scipy.signal`."
   ]
  },
  {
   "cell_type": "code",
   "execution_count": 13,
   "metadata": {
    "slideshow": {
     "slide_type": "subslide"
    }
   },
   "outputs": [],
   "source": [
    "def butter_filt(x, sampling_freq_hz, corner_freq_hz=4.0, lowpass=True, filtfilt=False):\n",
    "    \"\"\"\n",
    "    Smooth data with a low-pass or high-pass filter.\n",
    "\n",
    "    Apply a 2nd order Butterworth filter. Note that if filtfilt\n",
    "    is True the applied filter is effectively a 4th order Butterworth.\n",
    "    \n",
    "    Parameters\n",
    "    ----------\n",
    "    x: 1D numpy array\n",
    "        Array containing the signal to be smoothed.\n",
    "    sampling_freq_hz: float\n",
    "        Sampling frequency of the signal in Hz.\n",
    "    corner_freq_hz: float\n",
    "        Corner frequency of the Butterworth filter in Hz.\n",
    "    lowpass: bool\n",
    "        If True (default), apply a low-pass filter. If False,\n",
    "        apply a high-pass filter.\n",
    "    filtfilt: bool\n",
    "        If True, apply the filter forward and then backward\n",
    "        to elminate delay. If False (default), apply the\n",
    "        filter only in the forward direction.\n",
    "\n",
    "    Returns\n",
    "    -------\n",
    "    filtered: 1D numpy array\n",
    "        Array containing smoothed signal\n",
    "    b, a: 1D numpy arrays\n",
    "        Polynomial coefficients of the smoothing filter as returned from\n",
    "        the Butterworth design function.\n",
    "\n",
    "    \"\"\"\n",
    "    nyquist = sampling_freq_hz / 2.0\n",
    "    f_c = np.array([corner_freq_hz, ], dtype=np.float64)  # Hz\n",
    "    # Normalize by Nyquist\n",
    "    f_c /= nyquist\n",
    "    # Second order Butterworth filter at corner frequency\n",
    "    btype = 'low' if lowpass else 'high'\n",
    "    b, a = signal.butter(2, f_c, btype=btype)\n",
    "    # Apply the filter either in forward direction or forward-back.\n",
    "    if filtfilt:\n",
    "        filtered = signal.filtfilt(b, a, x)\n",
    "    else:\n",
    "        filtered = signal.lfilter(b, a, x)\n",
    "    return (filtered, b, a)"
   ]
  },
  {
   "cell_type": "code",
   "execution_count": 14,
   "metadata": {
    "slideshow": {
     "slide_type": "subslide"
    }
   },
   "outputs": [
    {
     "data": {
      "application/vnd.jupyter.widget-view+json": {
       "model_id": "11be9cdd1ff24a99b1f1822aea3204c9",
       "version_major": 2,
       "version_minor": 0
      },
      "text/plain": [
       "FigureCanvasNbAgg()"
      ]
     },
     "metadata": {},
     "output_type": "display_data"
    }
   ],
   "source": [
    "f_c_low = 2.0  # Corner frequency in Hz\n",
    "s_filtered, b, a = butter_filt(s_t, f_s, f_c_low)\n",
    "w, h = signal.freqz(b, a, 2048)\n",
    "w *= (f_s / (2 * np.pi))\n",
    "fig, ax = plt.subplots(2, 1, sharex=True, figsize=(9, 5))\n",
    "ax[0].plot(w, abs(h)), plt.xlim((0, 12)), ax[1].plot(w, np.angle(h, deg=True))\n",
    "ax[0].set_ylabel('Attenuation Factor'), ax[1].set_ylabel('Phase Angle (deg)')\n",
    "ax[1].set_xlabel('Frequency (Hz)')\n",
    "ax[0].set_title('Filter Frequency Response - 2nd Order Butterworth Low-Pass');"
   ]
  },
  {
   "cell_type": "code",
   "execution_count": 15,
   "metadata": {
    "slideshow": {
     "slide_type": "subslide"
    }
   },
   "outputs": [
    {
     "data": {
      "application/vnd.jupyter.widget-view+json": {
       "model_id": "2a08c880f76b47028e5d27cae973429a",
       "version_major": 2,
       "version_minor": 0
      },
      "text/plain": [
       "FigureCanvasNbAgg()"
      ]
     },
     "metadata": {},
     "output_type": "display_data"
    }
   ],
   "source": [
    "plt.figure(figsize=(9, 5))\n",
    "plt.plot(time, s_t, label='Original'), plt.plot(time, s_filtered, 'r-', label='Filtered')\n",
    "plt.xlim((0, 3))\n",
    "plt.xlabel('Time (s)'), plt.ylabel('Signal'), plt.legend(), plt.title('Low-Pass, Forward Filtering');"
   ]
  },
  {
   "cell_type": "code",
   "execution_count": 16,
   "metadata": {
    "slideshow": {
     "slide_type": "subslide"
    }
   },
   "outputs": [
    {
     "data": {
      "application/vnd.jupyter.widget-view+json": {
       "model_id": "c1d9952feda34a318a21e8b40a6ace7f",
       "version_major": 2,
       "version_minor": 0
      },
      "text/plain": [
       "FigureCanvasNbAgg()"
      ]
     },
     "metadata": {},
     "output_type": "display_data"
    }
   ],
   "source": [
    "s_filtered, b, a = butter_filt(s_t, f_s, f_c_low, filtfilt=True)\n",
    "plt.figure(figsize=(9, 5))\n",
    "plt.plot(time, s_t, label='Original'), plt.plot(time, s_filtered, 'r-', label='Filtered')\n",
    "plt.xlim((0, 3))\n",
    "plt.xlabel('Time (s)'), plt.ylabel('Signal'), plt.legend(), plt.title('Low-Pass, Forward-Backward Filtering');"
   ]
  },
  {
   "cell_type": "code",
   "execution_count": 17,
   "metadata": {
    "slideshow": {
     "slide_type": "subslide"
    }
   },
   "outputs": [
    {
     "data": {
      "application/vnd.jupyter.widget-view+json": {
       "model_id": "30ae5db70e6d4bc98ab225aad8668f60",
       "version_major": 2,
       "version_minor": 0
      },
      "text/plain": [
       "FigureCanvasNbAgg()"
      ]
     },
     "metadata": {},
     "output_type": "display_data"
    }
   ],
   "source": [
    "f_c_high = 6.0  # Corner frequency in Hz\n",
    "s_filtered, b, a = butter_filt(s_t, f_s, f_c_high, lowpass=False, filtfilt=True)\n",
    "w, h = signal.freqz(b, a, 2048)\n",
    "w *= (f_s / (2 * np.pi))\n",
    "fig, ax = plt.subplots(2, 1, sharex=True, figsize=(9, 5))\n",
    "ax[0].plot(w, abs(h)), plt.xlim((0, 12)), ax[1].plot(w[1:], np.angle(h, deg=True)[1:])\n",
    "ax[0].set_ylabel('Attenuation Factor'), ax[1].set_ylabel('Phase Angle (deg)')\n",
    "ax[1].set_xlabel('Frequency (Hz)')\n",
    "ax[0].set_title('Filter Frequency Response - 2nd Order Butterworth High-Pass');"
   ]
  },
  {
   "cell_type": "code",
   "execution_count": 18,
   "metadata": {
    "slideshow": {
     "slide_type": "subslide"
    }
   },
   "outputs": [
    {
     "data": {
      "application/vnd.jupyter.widget-view+json": {
       "model_id": "80bca2b69aa24f8fa5aeb703dce792d9",
       "version_major": 2,
       "version_minor": 0
      },
      "text/plain": [
       "FigureCanvasNbAgg()"
      ]
     },
     "metadata": {},
     "output_type": "display_data"
    }
   ],
   "source": [
    "s_filtered, b, a = butter_filt(s_t, f_s, f_c_high, lowpass=False, filtfilt=True)\n",
    "plt.figure(figsize=(9, 5))\n",
    "plt.plot(time, s_t, label='Original'), plt.plot(time, s_filtered, 'r-', label='Filtered')\n",
    "plt.xlim((0, 3))\n",
    "plt.xlabel('Time (s)'), plt.ylabel('Signal'), plt.legend(), plt.title('High-Pass, Forward-Backward Filtering');"
   ]
  },
  {
   "cell_type": "markdown",
   "metadata": {
    "slideshow": {
     "slide_type": "slide"
    }
   },
   "source": [
    "# Thank you!"
   ]
  },
  {
   "cell_type": "code",
   "execution_count": null,
   "metadata": {
    "slideshow": {
     "slide_type": "skip"
    }
   },
   "outputs": [],
   "source": []
  }
 ],
 "metadata": {
  "celltoolbar": "Slideshow",
  "kernelspec": {
   "display_name": "Python 3",
   "language": "python",
   "name": "python3"
  },
  "language_info": {
   "codemirror_mode": {
    "name": "ipython",
    "version": 3
   },
   "file_extension": ".py",
   "mimetype": "text/x-python",
   "name": "python",
   "nbconvert_exporter": "python",
   "pygments_lexer": "ipython3",
   "version": "3.6.6"
  }
 },
 "nbformat": 4,
 "nbformat_minor": 2
}
